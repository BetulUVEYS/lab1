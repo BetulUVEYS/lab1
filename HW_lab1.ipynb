{
 "cells": [
  {
   "cell_type": "code",
   "execution_count": 3,
   "id": "50ddd89c",
   "metadata": {},
   "outputs": [
    {
     "name": "stdout",
     "output_type": "stream",
     "text": [
      "<class 'float'> <class 'bool'>\n"
     ]
    }
   ],
   "source": [
    "#variables\n",
    "#some types of variables\n",
    "name,univerity,age,average,case_of_project ='betul',\"Karabuk\",21,2.5,True \n",
    "#use type() to get the type of variables \n",
    "print(type(average),type(case_of_project))\n",
    "\n"
   ]
  },
  {
   "cell_type": "code",
   "execution_count": 54,
   "id": "a3fe62e3",
   "metadata": {
    "scrolled": true
   },
   "outputs": [
    {
     "name": "stdout",
     "output_type": "stream",
     "text": [
      "<class 'list'>\n",
      "\n",
      "\n",
      "The cities which are affected of earthquake areas are:\n",
      " ['Kahramanmaraş', 'HATAY', 'Malatya', 'Adana', 'Şanlıurfa', 'Diyarbakır', 'Kilis', 'Adıyaman', 'Osmaniye'] \n",
      "The center of it is: Kahramanmaraş\n",
      "and I was in Gaziantep\n",
      "\n",
      "\n",
      "['betul', 'Karabuk', 21, 2.5, 'computer engineering']\n",
      "['betul', 'Karabuk', 'computer engineering', 21, 2.5, 'computer engineering']\n",
      "['betul', 'Karabuk', 21, 2.5, 'computer engineering']\n",
      "[25, 70, 20, 75, 15, 80]\n",
      "[15, 20, 25, 70, 75, 80]\n",
      "\n",
      "\n",
      "the sum of values in list1 is: 285\n",
      "the maximum of value in list1 is: 80\n",
      "the minimum of value in list1 is: 15\n",
      "\n",
      "\n",
      "[15, 20, 25, 70, 75, 80]\n",
      "[0, 15, 20, 25, 70, 75, 80] [0, 15, 20, 25, 70, 75, 80]\n",
      "\n",
      "\n",
      "[0, 15, 20, 25, 70, 75, 80]\n",
      "[0, 15, 20, 25, 70, 75, 80, 100] [0, 15, 20, 25, 70, 75, 80]\n",
      "\n",
      "\n",
      "\n",
      "\n",
      "Help on method_descriptor:\n",
      "\n",
      "append(self, object, /)\n",
      "    Append object to the end of the list.\n",
      "\n"
     ]
    }
   ],
   "source": [
    "#list\n",
    "#the list is also a type of varible types and the list can be include many types of variables \n",
    "mylist1=[80,15,75,20,70,25]\n",
    "mylist2= [\"Kahramanmaraş\",\"HATAY\",\"Malatya\",\"Adana\",\"Şanlıurfa\",\"Diyarbakır\",\"Kilis\",\"Adıyaman\",\"Osmaniye\",\"Gaziantep\"]\n",
    "mylist3=[\"betul\",\"Karabuk\",21,2.5]\n",
    "print(type(mylist1))\n",
    "print(\"\\n\")\n",
    "#print all variables of mylist2\n",
    "print(\"The cities which are affected of earthquake areas are:\\n %s \"%mylist2[0:9])\n",
    "#print the first value of mylist2\n",
    "print(\"The center of it is: %s\"%mylist2[0])\n",
    "#print the last variable of list\n",
    "print(\"and I was in %s\" %mylist2[-1])\n",
    "\n",
    "#**append-insert-remove-reverse-sort\n",
    "#append: is to add a variable to string; it adds in the last of index by default.\n",
    "print(\"\\n\")\n",
    "mylist3.append(\"computer engineering\")\n",
    "print(mylist3)\n",
    "#insert :is to add a variable in a selected index\n",
    "mylist3.insert(2,\"computer engineering\")\n",
    "print(mylist3)\n",
    "#remove: is to remove the  variable which selected,if there is more then one is remove first of them\n",
    "mylist3.remove(\"computer engineering\")\n",
    "print(mylist3)\n",
    "#reverse is to reverse the values each list \n",
    "mylist1.reverse()\n",
    "print(mylist1)\n",
    "#sort is to sort the values Ascending\n",
    "mylist1.sort()\n",
    "print(mylist1)\n",
    "\n",
    "print(\"\\n\")\n",
    "#sum is to calculate summation\n",
    "a=sum(mylist1)\n",
    "print(\"the sum of values in list1 is: %d\"%a)\n",
    "# max is to get the maximum value in the list \n",
    "b=max(mylist1)\n",
    "print(\"the maximum of value in list1 is: %d\"%b)\n",
    "# min is to get the minimum value in the list\n",
    "c=min(mylist1)\n",
    "print(\"the minimum of value in list1 is: %d\"%c)\n",
    "\n",
    "\n",
    "#important note about copy functions  \n",
    "#********first type of copy(using copy function)******** \n",
    "print(\"\\n\")\n",
    "mylist4= mylist1\n",
    "print(mylist4)\n",
    "mylist1.insert(0,0)\n",
    "print(mylist1,mylist4)\n",
    "#********second type of copy(without using copy function)\n",
    "print(\"\\n\")\n",
    "mylist5=mylist1.copy()\n",
    "print(mylist5)\n",
    "mylist1.insert(7,100)\n",
    "print(mylist1,mylist5)\n",
    "#as it is shown there is a difference between copy using copy function and not using in updating values \n",
    "\n",
    "\n",
    "# #to show functions of list\n",
    "print(\"\\n\")\n",
    "dir(mylist1)\n",
    "# #to get an information about any function you need \n",
    "print(\"\\n\")\n",
    "help(list.append)\n"
   ]
  },
  {
   "cell_type": "code",
   "execution_count": 81,
   "id": "6558405d",
   "metadata": {},
   "outputs": [
    {
     "name": "stdout",
     "output_type": "stream",
     "text": [
      "\n",
      "\n",
      " a:10 is not a value of mylist1\n"
     ]
    }
   ],
   "source": [
    "#conditionals\n",
    "#if else statement\n",
    "\n",
    "1 == 1           #True\n",
    "1 == 2           #False\n",
    "1 != 1           #False\n",
    "True == True     #True\n",
    "True == False    #False\n",
    "15>4 and 0.4<5   #True\n",
    "15>4 or 0.4<5    #True    \n",
    "\n",
    "\n",
    "#to check if the a value each list or not\n",
    "#formats the specified value(s) and insert them inside the string's placeholder\n",
    "print(\"\\n\")\n",
    "if a in mylist1:\n",
    "    print(\"a:{} is a value of mylist1\".format(a))\n",
    "    \n",
    "else:\n",
    "    print(\" a:{} is not a value of mylist1\".format(a))\n",
    "    \n"
   ]
  },
  {
   "cell_type": "code",
   "execution_count": 60,
   "id": "82b46d02",
   "metadata": {},
   "outputs": [
    {
     "name": "stdout",
     "output_type": "stream",
     "text": [
      "1\n",
      "2\n",
      "3\n",
      "4\n",
      "5\n",
      "6\n",
      "7\n",
      "8\n",
      "9\n",
      "10\n",
      "\n",
      "\n",
      "k\n",
      "a\n",
      "r\n",
      "a\n",
      "b\n",
      "ü\n",
      "k\n",
      " \n",
      "ü\n",
      "n\n",
      "i\n",
      "v\n",
      "e\n",
      "r\n",
      "s\n",
      "i\n",
      "t\n",
      "e\n",
      "s\n",
      "i\n",
      "\n",
      "\n",
      "\n",
      "\n",
      "0\n",
      "15\n",
      "20\n",
      "25\n",
      "70\n",
      "75\n",
      "80\n",
      "100\n",
      "\n",
      "\n",
      "minimum value is :100\n"
     ]
    }
   ],
   "source": [
    "#for \n",
    "#with integer values in defined range : take value by value  \n",
    "for a in range(1,11):\n",
    "    print(a)\n",
    "    \n",
    "print(\"\\n\")\n",
    "#with string in a sentence : take a letter by letter(the space is taking as a letter)\n",
    "for b in (\"karabük üniversitesi\"):\n",
    "    print(b)\n",
    "    \n",
    "print(\"\\n\")\n",
    "#with a list : take index by index\n",
    "print(\"\\n\")\n",
    "for c in mylist1:\n",
    "    print(c)\n",
    "    \n",
    "print(\"\\n\")\n",
    "#for & if\n",
    "minimum = 1050\n",
    "for d in mylist1:\n",
    "    if(d<minimum):\n",
    "        minimumm = d\n",
    "    else:\n",
    "        continue\n",
    "print(\"minimum value is :%d\"%d)    \n"
   ]
  },
  {
   "cell_type": "code",
   "execution_count": 82,
   "id": "7c5b74cc",
   "metadata": {},
   "outputs": [
    {
     "name": "stdout",
     "output_type": "stream",
     "text": [
      "input number : 5\n",
      "5\n",
      "6\n",
      "7\n",
      "8\n",
      "9\n",
      "10\n",
      "(:\n"
     ]
    }
   ],
   "source": [
    "#while\n",
    "a = int(input(\"input number : \"))\n",
    "\n",
    "while a <= 10 :\n",
    "    print(a)\n",
    "    a = a +1\n",
    "print(\"(:\")\n"
   ]
  },
  {
   "cell_type": "code",
   "execution_count": 84,
   "id": "8b270be6",
   "metadata": {},
   "outputs": [
    {
     "data": {
      "text/plain": [
       "28.26"
      ]
     },
     "execution_count": 84,
     "metadata": {},
     "output_type": "execute_result"
    }
   ],
   "source": [
    "#function\n",
    "\n",
    "\n",
    "# default function: çember çevresi= pi*r**2\n",
    "\n",
    "def cember_cevre(r,pi=3.14): #when using the equal  in the parametre part that is mean the value is defined by default\n",
    "   \n",
    "    \n",
    "    output = pi*r**2\n",
    "    \n",
    "    return output\n",
    "\n",
    "cember_cevre(3) \n",
    " "
   ]
  },
  {
   "cell_type": "code",
   "execution_count": 87,
   "id": "4ef22a6c",
   "metadata": {},
   "outputs": [
    {
     "name": "stdout",
     "output_type": "stream",
     "text": [
      "125\n",
      "1\n",
      "5\n",
      "25\n",
      "125\n"
     ]
    }
   ],
   "source": [
    "#lambda \n",
    "#example 1: take two number and let second one is a power for first one \n",
    "powers = lambda x,y : x**y\n",
    "print (powers(5,3))\n",
    "\n",
    "#example 2: using the labda,list and for.\n",
    "powers = [lambda x: 1,lambda x: x,lambda x: x**2,lambda x: x**3]\n",
    "for i in range(0,4):\n",
    "    print(powers[i](5))\n",
    "\n",
    "  \n",
    "\n"
   ]
  },
  {
   "cell_type": "code",
   "execution_count": 94,
   "id": "f8ce048a",
   "metadata": {},
   "outputs": [
    {
     "name": "stdout",
     "output_type": "stream",
     "text": [
      "<class 'dict'>\n",
      "\n",
      "\n",
      "\n",
      "\n",
      "\n",
      "\n",
      "\n",
      "\n",
      "\n",
      "\n",
      "\n",
      "\n",
      "\n",
      "\n",
      "evet\n"
     ]
    }
   ],
   "source": [
    "#dictionary\n",
    "\n",
    "#create  postal code database \n",
    "dictionary = {\"Gaziantep\":27000, \"Karabük\":78000, \"Ankara\":34000}\n",
    "\n",
    "print(type(dictionary))\n",
    "\n",
    "#get all keys\n",
    "print(\"\\n\")\n",
    "dictionary.keys() \n",
    "\n",
    "#get all values\n",
    "print(\"\\n\")\n",
    "dictionary.values() \n",
    "\n",
    "#get postal  code of Gaziantep..\n",
    "print(\"\\n\")\n",
    "dictionary[\"Gaziantep\"] \n",
    "\n",
    "#get the type of value of selected key\n",
    "print(\"\\n\")\n",
    "type(dictionary[\"Ankara\"]) \n",
    "\n",
    "\n",
    "#create a dictionary  in function, return dictionary\n",
    "print(\"\\n\")\n",
    "def postal_code():\n",
    "    dictionary = {\"Gaziantep\":27000, \"Karabük\":78000, \"Istanbul\":34000}\n",
    "    \n",
    "    return  dictionary\n",
    "\n",
    "dic = postal_code()\n",
    "\n",
    "#get the value of the key from postal_code function\n",
    "print(\"\\n\")\n",
    "dic[\"Gaziantep\"]\n",
    "\n",
    "#if-dictionary\n",
    "print(\"\\n\")\n",
    "dictionary = {\"Gaziantep\":27000, \"Karabük\":78000, \"Istanbul\":34000}\n",
    "\n",
    "keys = dictionary.keys() \n",
    "\n",
    "if \"Karabük\" in keys: #sevval keylerin içindeyse evet, değilse hayır yazılır.\n",
    "    print(\"evet\")\n",
    "else:\n",
    "    print(\"hayır\")"
   ]
  },
  {
   "cell_type": "code",
   "execution_count": null,
   "id": "9ffade7b",
   "metadata": {},
   "outputs": [],
   "source": []
  }
 ],
 "metadata": {
  "kernelspec": {
   "display_name": "Python 3 (ipykernel)",
   "language": "python",
   "name": "python3"
  },
  "language_info": {
   "codemirror_mode": {
    "name": "ipython",
    "version": 3
   },
   "file_extension": ".py",
   "mimetype": "text/x-python",
   "name": "python",
   "nbconvert_exporter": "python",
   "pygments_lexer": "ipython3",
   "version": "3.9.13"
  }
 },
 "nbformat": 4,
 "nbformat_minor": 5
}

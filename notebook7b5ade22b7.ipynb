{
 "cells": [
  {
   "cell_type": "code",
   "execution_count": 1,
   "id": "dd81f1a7",
   "metadata": {
    "_cell_guid": "b1076dfc-b9ad-4769-8c92-a6c4dae69d19",
    "_uuid": "8f2839f25d086af736a60e9eeb907d3b93b6e0e5",
    "execution": {
     "iopub.execute_input": "2023-03-03T20:48:51.561436Z",
     "iopub.status.busy": "2023-03-03T20:48:51.561016Z",
     "iopub.status.idle": "2023-03-03T20:48:51.572322Z",
     "shell.execute_reply": "2023-03-03T20:48:51.570968Z"
    },
    "papermill": {
     "duration": 0.02126,
     "end_time": "2023-03-03T20:48:51.575124",
     "exception": false,
     "start_time": "2023-03-03T20:48:51.553864",
     "status": "completed"
    },
    "tags": []
   },
   "outputs": [],
   "source": [
    "# This Python 3 environment comes with many helpful analytics libraries installed\n",
    "# It is defined by the kaggle/python Docker image: https://github.com/kaggle/docker-python\n",
    "# For example, here's several helpful packages to load\n",
    "\n",
    "import numpy as np # linear algebra\n",
    "import pandas as pd # data processing, CSV file I/O (e.g. pd.read_csv)\n",
    "\n",
    "# Input data files are available in the read-only \"../input/\" directory\n",
    "# For example, running this (by clicking run or pressing Shift+Enter) will list all files under the input directory\n",
    "\n",
    "import os\n",
    "for dirname, _, filenames in os.walk('/kaggle/input'):\n",
    "    for filename in filenames:\n",
    "        print(os.path.join(dirname, filename))\n",
    "\n",
    "# You can write up to 20GB to the current directory (/kaggle/working/) that gets preserved as output when you create a version using \"Save & Run All\" \n",
    "# You can also write temporary files to /kaggle/temp/, but they won't be saved outside of the current session"
   ]
  },
  {
   "cell_type": "markdown",
   "id": "131641df",
   "metadata": {
    "papermill": {
     "duration": 0.00184,
     "end_time": "2023-03-03T20:48:51.579420",
     "exception": false,
     "start_time": "2023-03-03T20:48:51.577580",
     "status": "completed"
    },
    "tags": []
   },
   "source": [
    "# exploring dataset\n"
   ]
  },
  {
   "cell_type": "markdown",
   "id": "eebe3ddc",
   "metadata": {
    "papermill": {
     "duration": 0.001694,
     "end_time": "2023-03-03T20:48:51.583123",
     "exception": false,
     "start_time": "2023-03-03T20:48:51.581429",
     "status": "completed"
    },
    "tags": []
   },
   "source": []
  },
  {
   "cell_type": "code",
   "execution_count": 2,
   "id": "41d0368a",
   "metadata": {
    "execution": {
     "iopub.execute_input": "2023-03-03T20:48:51.589459Z",
     "iopub.status.busy": "2023-03-03T20:48:51.588321Z",
     "iopub.status.idle": "2023-03-03T20:48:51.593949Z",
     "shell.execute_reply": "2023-03-03T20:48:51.592565Z"
    },
    "papermill": {
     "duration": 0.011425,
     "end_time": "2023-03-03T20:48:51.596435",
     "exception": false,
     "start_time": "2023-03-03T20:48:51.585010",
     "status": "completed"
    },
    "tags": []
   },
   "outputs": [],
   "source": [
    "import numpy as np"
   ]
  },
  {
   "cell_type": "code",
   "execution_count": null,
   "id": "ce9cf069",
   "metadata": {
    "papermill": {
     "duration": 0.001778,
     "end_time": "2023-03-03T20:48:51.600492",
     "exception": false,
     "start_time": "2023-03-03T20:48:51.598714",
     "status": "completed"
    },
    "tags": []
   },
   "outputs": [],
   "source": []
  }
 ],
 "metadata": {
  "kernelspec": {
   "display_name": "Python 3",
   "language": "python",
   "name": "python3"
  },
  "language_info": {
   "codemirror_mode": {
    "name": "ipython",
    "version": 3
   },
   "file_extension": ".py",
   "mimetype": "text/x-python",
   "name": "python",
   "nbconvert_exporter": "python",
   "pygments_lexer": "ipython3",
   "version": "3.7.12"
  },
  "papermill": {
   "default_parameters": {},
   "duration": 11.458707,
   "end_time": "2023-03-03T20:48:52.325052",
   "environment_variables": {},
   "exception": null,
   "input_path": "__notebook__.ipynb",
   "output_path": "__notebook__.ipynb",
   "parameters": {},
   "start_time": "2023-03-03T20:48:40.866345",
   "version": "2.4.0"
  }
 },
 "nbformat": 4,
 "nbformat_minor": 5
}
